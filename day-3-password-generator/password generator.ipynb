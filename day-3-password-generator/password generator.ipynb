{
 "cells": [
  {
   "cell_type": "code",
   "execution_count": 85,
   "id": "58652fe8-e2de-47ac-bf60-f15147a4e3d0",
   "metadata": {},
   "outputs": [
    {
     "name": "stderr",
     "output_type": "stream",
     "text": [
      "WARNING: redefinition of constant Main.SYMBOLS. This may fail, cause incorrect answers, or produce other errors.\n",
      "WARNING: redefinition of constant Main.SAFE_LOWERCASE. This may fail, cause incorrect answers, or produce other errors.\n",
      "WARNING: redefinition of constant Main.SAFE_UPPERCASE. This may fail, cause incorrect answers, or produce other errors.\n",
      "WARNING: redefinition of constant Main.SAFE_NUMBERS. This may fail, cause incorrect answers, or produce other errors.\n"
     ]
    },
    {
     "data": {
      "text/plain": [
       "8-element Vector{Char}:\n",
       " '2': ASCII/Unicode U+0032 (category Nd: Number, decimal digit)\n",
       " '3': ASCII/Unicode U+0033 (category Nd: Number, decimal digit)\n",
       " '4': ASCII/Unicode U+0034 (category Nd: Number, decimal digit)\n",
       " '5': ASCII/Unicode U+0035 (category Nd: Number, decimal digit)\n",
       " '6': ASCII/Unicode U+0036 (category Nd: Number, decimal digit)\n",
       " '7': ASCII/Unicode U+0037 (category Nd: Number, decimal digit)\n",
       " '8': ASCII/Unicode U+0038 (category Nd: Number, decimal digit)\n",
       " '9': ASCII/Unicode U+0039 (category Nd: Number, decimal digit)"
      ]
     },
     "execution_count": 85,
     "metadata": {},
     "output_type": "execute_result"
    }
   ],
   "source": [
    "using Random  # Gives access to shuffle, shuffle!, randstring, etc.\n",
    "const LOWERCASE = 'a':'z'                # 1. Define lowercase letters as a range 'a' to 'z'\n",
    "const UPPERCASE = 'A':'Z'                # 2. Uppercase letters range\n",
    "const NUMBERS = '0':'9'                  # 3. Numbers 0-9\n",
    "const SYMBOLS = \"!@#\\$%^&*()_+-=[]{}|;:,.<>?~\"  # 4. String of special symbols, Escaped $ with backslash\n",
    "\n",
    "# Optional safety: Remove ambiguous characters (e.g., 'l' vs '1')\n",
    "const SAFE_LOWERCASE = setdiff(LOWERCASE, ['l', 'o'])   # 5. Exclude 'l' and 'o'\n",
    "const SAFE_UPPERCASE = setdiff(UPPERCASE, ['I', 'O'])   # 6. Exclude 'I' and 'O'\n",
    "const SAFE_NUMBERS = setdiff(NUMBERS, ['0', '1'])       # 7. Exclude '0' and '1'"
   ]
  },
  {
   "cell_type": "code",
   "execution_count": 127,
   "id": "cc3d510d-7202-43c2-a09e-e1f5a0092fc3",
   "metadata": {},
   "outputs": [
    {
     "data": {
      "text/plain": [
       "generate_password (generic function with 2 methods)"
      ]
     },
     "execution_count": 127,
     "metadata": {},
     "output_type": "execute_result"
    }
   ],
   "source": [
    "function generate_password(n=12; use_symbols=true, safe_mode=true)\n",
    "    # 8. Choose character sets based on safety flag\n",
    "    lower = safe_mode ? SAFE_LOWERCASE : LOWERCASE\n",
    "    upper = safe_mode ? SAFE_UPPERCASE : UPPERCASE\n",
    "    nums = safe_mode ? SAFE_NUMBERS : NUMBERS\n",
    "\n",
    "    # 9. Build character pool\n",
    "    chars = [lower...; upper...; nums...]          # 9a. Flatten ranges into array\n",
    "    use_symbols && append!(chars, SYMBOLS)         # 9b. Add symbols if enabled\n",
    "\n",
    "    #println(chars)\n",
    "    # 10. Ensure at least 1 char from each category\n",
    "    password = shuffle([\n",
    "        rand(lower),   # 10a. Random lowercase\n",
    "        rand(upper),   # 10b. Random uppercase\n",
    "        rand(nums),    # 10c. Random number\n",
    "        (use_symbols ? rand(SYMBOLS) : rand(chars)) # 10d. Symbol or fallback\n",
    "    ])\n",
    "    # 11. Fill remaining length with random chars\n",
    "    remaining = n - length(password)\n",
    "    append!(password, rand(chars, remaining))\n",
    "\n",
    "    shuffle!(password)  # 12. Randomize order\n",
    "    return join(password)  # 13. Convert array to string\n",
    "end"
   ]
  },
  {
   "cell_type": "code",
   "execution_count": 129,
   "id": "14c59356-0ac1-4bbd-b885-ad64a567dd7b",
   "metadata": {},
   "outputs": [
    {
     "data": {
      "text/plain": [
       "get_yes_no_input (generic function with 2 methods)"
      ]
     },
     "execution_count": 129,
     "metadata": {},
     "output_type": "execute_result"
    }
   ],
   "source": [
    "function get_yes_no_input(prompt::String, default::String=\"y\")\n",
    "    while true\n",
    "        input = lowercase(strip(readline()))  # Read input, strip spaces, convert to lowercase\n",
    "        if input == \"\"  # If the user presses Enter, return the default\n",
    "            return default\n",
    "        elseif input in [\"y\", \"n\"]  # Ensure only \"y\" or \"n\" is accepted\n",
    "            return input\n",
    "        else\n",
    "            println(\"Invalid input. Please enter 'y' or 'n'.\")\n",
    "        end\n",
    "    end\n",
    "end"
   ]
  },
  {
   "cell_type": "code",
   "execution_count": 131,
   "id": "2243c9c8-4bc2-4dc6-ae47-cad86a7f958a",
   "metadata": {},
   "outputs": [
    {
     "name": "stdout",
     "output_type": "stream",
     "text": [
      "Julia Password Generator\n",
      "Length (default 12): "
     ]
    },
    {
     "name": "stdin",
     "output_type": "stream",
     "text": [
      "stdin>  \n"
     ]
    },
    {
     "name": "stdout",
     "output_type": "stream",
     "text": [
      "Include symbols? (y/n): "
     ]
    },
    {
     "name": "stdin",
     "output_type": "stream",
     "text": [
      "stdin>  \n"
     ]
    },
    {
     "name": "stdout",
     "output_type": "stream",
     "text": [
      "true\n",
      "Safe mode (exclude ambiguous chars)? (y/n): "
     ]
    },
    {
     "name": "stdin",
     "output_type": "stream",
     "text": [
      "stdin>  \n"
     ]
    },
    {
     "name": "stdout",
     "output_type": "stream",
     "text": [
      "\n",
      "Generated Password: 5p[PAQP&8T6M\n"
     ]
    }
   ],
   "source": [
    "function main()\n",
    "    println(\"Julia Password Generator\")  # 14. Title\n",
    "    \n",
    "    # 15. Get password length\n",
    "    print(\"Length (default 12): \")\n",
    "    length = try parse(Int, readline()) catch _ 12 end  # 15a. Handle invalid input\n",
    "    println(length)\n",
    "    \n",
    "    # 16. Toggle symbols\n",
    "    print(\"Include symbols? (y/n): \")\n",
    "    use_symbols = get_yes_no_input(\"Include symbols? (y/n, default=y): \") == \"y\"\n",
    "    println(use_symbols)\n",
    "    \n",
    "    # 17. Toggle safe mode\n",
    "    print(\"Safe mode (exclude ambiguous chars)? (y/n): \")\n",
    "    safe_mode = get_yes_no_input(\"Include symbols? (y/n, default=y): \") == \"y\"\n",
    "    print\n",
    "    \n",
    "    # 18. Generate and display\n",
    "    println(\"\\nGenerated Password: \", generate_password(length; use_symbols=use_symbols, safe_mode=safe_mode))\n",
    "end\n",
    "\n",
    "# 19. Run the program\n",
    "main()"
   ]
  },
  {
   "cell_type": "code",
   "execution_count": null,
   "id": "1dcbc51b-45c8-4409-b412-e7db26c14c02",
   "metadata": {},
   "outputs": [],
   "source": []
  }
 ],
 "metadata": {
  "kernelspec": {
   "display_name": "Julia 1.11.3",
   "language": "julia",
   "name": "julia-1.11"
  },
  "language_info": {
   "file_extension": ".jl",
   "mimetype": "application/julia",
   "name": "julia",
   "version": "1.11.3"
  }
 },
 "nbformat": 4,
 "nbformat_minor": 5
}
