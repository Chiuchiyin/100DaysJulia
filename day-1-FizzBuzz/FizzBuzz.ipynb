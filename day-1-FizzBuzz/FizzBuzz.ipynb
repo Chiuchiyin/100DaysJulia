{
 "cells": [
  {
   "cell_type": "code",
   "execution_count": 1,
   "id": "7b0f4458-d1e5-4442-8dff-84ee64a805bf",
   "metadata": {},
   "outputs": [
    {
     "name": "stdout",
     "output_type": "stream",
     "text": [
      "1\n",
      "2\n",
      "Fizz\n",
      "4\n",
      "Buzz\n",
      "Fizz\n",
      "7\n",
      "8\n",
      "Fizz\n",
      "Buzz\n",
      "11\n",
      "Fizz\n",
      "13\n",
      "14\n",
      "FizzBuzz\n"
     ]
    }
   ],
   "source": [
    "for i = 1:15\n",
    "    if i % 15 == 0\n",
    "        println(\"FizzBuzz\")\n",
    "    elseif i % 5 == 0\n",
    "        println(\"Buzz\")\n",
    "    elseif i % 3 == 0\n",
    "        println(\"Fizz\")\n",
    "    else\n",
    "        println(i)\n",
    "    end\n",
    "end"
   ]
  },
  {
   "cell_type": "code",
   "execution_count": 7,
   "id": "e0d66aa0-4909-45d0-b192-c277cc4c8a43",
   "metadata": {},
   "outputs": [
    {
     "data": {
      "text/plain": [
       "FizzBuzz (generic function with 1 method)"
      ]
     },
     "execution_count": 7,
     "metadata": {},
     "output_type": "execute_result"
    }
   ],
   "source": [
    "function FizzBuzz(n)\n",
    "    for i = 1:n\n",
    "        if i % 15 == 0\n",
    "            println(\"FizzBuzz\")\n",
    "        elseif i % 5 == 0\n",
    "            println(\"Buzz\")\n",
    "        elseif i % 3 == 0\n",
    "            println(\"Fizz\")\n",
    "        else\n",
    "            println(i)\n",
    "        end\n",
    "    end\n",
    "end"
   ]
  },
  {
   "cell_type": "code",
   "execution_count": 9,
   "id": "d83c2589-69c8-4f79-bec5-464ae4807119",
   "metadata": {},
   "outputs": [
    {
     "name": "stdout",
     "output_type": "stream",
     "text": [
      "1\n",
      "2\n",
      "Fizz\n",
      "4\n",
      "Buzz\n",
      "Fizz\n",
      "7\n",
      "8\n",
      "Fizz\n",
      "Buzz\n",
      "11\n",
      "Fizz\n",
      "13\n",
      "14\n",
      "FizzBuzz\n"
     ]
    }
   ],
   "source": [
    "FizzBuzz(15)"
   ]
  },
  {
   "cell_type": "code",
   "execution_count": null,
   "id": "f0509458-aa21-4525-b10f-2d344f26ecce",
   "metadata": {},
   "outputs": [],
   "source": []
  }
 ],
 "metadata": {
  "kernelspec": {
   "display_name": "Julia 1.11.3",
   "language": "julia",
   "name": "julia-1.11"
  },
  "language_info": {
   "file_extension": ".jl",
   "mimetype": "application/julia",
   "name": "julia",
   "version": "1.11.3"
  }
 },
 "nbformat": 4,
 "nbformat_minor": 5
}
