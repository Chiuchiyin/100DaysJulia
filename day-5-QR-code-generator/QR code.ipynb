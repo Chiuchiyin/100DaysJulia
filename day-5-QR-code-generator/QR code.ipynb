{
 "cells": [
  {
   "cell_type": "markdown",
   "id": "923a72ae-b103-4c23-aa44-de2f1387cc85",
   "metadata": {},
   "source": [
    "## **How QR Codes Work**\n",
    "QR codes are **two-dimensional barcodes** that encode data using black and white squares. The main components of a QR code are:\n",
    "\n",
    "1. **Finder Patterns** (Large squares at the corners)\n",
    "2. **Timing Patterns** (Alternating black/white lines for alignment)\n",
    "3. **Alignment Patterns** (Smaller squares for distortion correction)\n",
    "4. **Data Area** (Stores encoded information)\n",
    "5. **Error Correction** (Uses Reed-Solomon error correction)\n",
    "\n",
    "Each QR code consists of a **grid of black and white modules**, where black represents **1** and white represents **0**.\n",
    "\n",
    "---\n",
    "\n",
    "## **Steps to Generate a QR Code**\n",
    "1. **Analyze Unicode characters**\n",
    "2. **Create data segment**\n",
    "3. **Fit to version number**\n",
    "4. **Concatenate segments, add padding, make codewords**\n",
    "5. **Split blocks, add ECC, interleave**\n",
    "6. **Draw fixed patterns**\n",
    "7. **Draw codewords and remainder**\n",
    "8. **Try applying each mask**\n",
    "9. **Find penalty patterns**\n",
    "10. **Calculate penalty points, select best mask**\n",
    "\n",
    "---\n",
    "\n",
    "## **Implementing QR Code in Julia**"
   ]
  },
  {
   "cell_type": "code",
   "execution_count": 2,
   "id": "0ab92047-f06f-4071-8459-b76ec866fa62",
   "metadata": {},
   "outputs": [],
   "source": [
    "using Plots"
   ]
  },
  {
   "cell_type": "markdown",
   "id": "247e8110-62f6-47ad-a55e-a5a21cef146e",
   "metadata": {},
   "source": [
    "### **1. Analyze Unicode characters**"
   ]
  },
  {
   "cell_type": "code",
   "execution_count": 4,
   "id": "14258ef0-0768-4cee-94d5-c7b46bd05472",
   "metadata": {},
   "outputs": [
    {
     "name": "stdout",
     "output_type": "stream",
     "text": [
      "Number of code points in the input text string: 17\n"
     ]
    }
   ],
   "source": [
    "text = \"Hello, world! 123\"\n",
    "num_codepoints = length(text)  # Count number of characters\n",
    "println(\"Number of code points in the input text string: $num_codepoints\")"
   ]
  },
  {
   "cell_type": "code",
   "execution_count": 255,
   "id": "7e2d96bb-447d-4b79-b8ea-3619ad9bc714",
   "metadata": {},
   "outputs": [
    {
     "data": {
      "text/plain": [
       "analyze_unicode (generic function with 1 method)"
      ]
     },
     "execution_count": 255,
     "metadata": {},
     "output_type": "execute_result"
    }
   ],
   "source": [
    "function analyze_unicode(text)\n",
    "    println(\"Index\\tChar\\tCP hex\\tNM\\tAM\\tBM\\tKM\")\n",
    "\n",
    "    nm_results = Bool[]  # Stores true/false for Numeric Mode (NM)\n",
    "    am_results = Bool[]  # Stores true/false for Alphanumeric Mode (AM)\n",
    "    km_results = Bool[]  # Stores true/false for Kanji Mode (KM)\n",
    "    \n",
    "    for (i, c) in enumerate(text)\n",
    "        code_point = UInt32(c)\n",
    "        cp_hex = uppercase(string(code_point, base=16))  # Unicode hex\n",
    "\n",
    "        # Numeric Mode (0-9)\n",
    "        nm = '0' <= c <= '9'\n",
    "        push!(nm_results, nm)\n",
    "\n",
    "        # Alphanumeric Mode (0-9, A-Z, and some special symbols)\n",
    "        am = nm || ('A' <= c <= 'Z') || c in \"\\$%*+-./:\"\n",
    "        push!(am_results, am)\n",
    "\n",
    "        # Byte Mode (always applicable in UTF-8)\n",
    "        bm = true  \n",
    "\n",
    "        # Kanji Mode (Shift JIS X 0208 full range)\n",
    "        km = (\n",
    "            (0x4E00 <= code_point <= 0x9FAF) ||  # Common CJK Kanji (JIS X 0208 & X 0212)\n",
    "            (0x3400 <= code_point <= 0x4DBF) ||  # Rare Kanji\n",
    "            (0x3000 <= code_point <= 0x303F) ||  # CJK Symbols & Punctuation\n",
    "            (0x3040 <= code_point <= 0x30FF) ||  # Hiragana & Katakana\n",
    "            (0xFF00 <= code_point <= 0xFFEF) ||  # Full-width ASCII & Kana\n",
    "            (0x0370 <= code_point <= 0x03FF) ||  # Greek Letters (α, β, γ, etc.)\n",
    "            (0x0400 <= code_point <= 0x04FF) ||  # Cyrillic Letters (А, Б, В, etc.)\n",
    "            (0x2500 <= code_point <= 0x257F) ||  # Box Drawing Characters\n",
    "            (code_point in [0x2606, 0x2605, 0x266A])  # Special symbols like ☆, ★, ♪\n",
    "        )\n",
    "        push!(km_results, km)\n",
    "\n",
    "        println(\"$i\\t$c\\tU+$cp_hex\\t$(nm ? \"Yes\" : \"No\")\\t$(am ? \"Yes\" : \"No\")\\t$(bm ? \"Yes\" : \"No\")\\t$(km ? \"Yes\" : \"No\")\")\n",
    "    end\n",
    "    return nm_results, am_results, km_results\n",
    "end\n"
   ]
  },
  {
   "cell_type": "code",
   "execution_count": 259,
   "id": "7c4a5329-c27b-47b0-95e8-458c26d64c70",
   "metadata": {},
   "outputs": [
    {
     "data": {
      "text/plain": [
       "determine_encoding (generic function with 1 method)"
      ]
     },
     "execution_count": 259,
     "metadata": {},
     "output_type": "execute_result"
    }
   ],
   "source": [
    "function determine_encoding(text)\n",
    "    # Check if all characters can be encoded in each mode\n",
    "\n",
    "    nm, am, km = analyze_unicode(text)\n",
    "    \n",
    "    can_numeric = all(nm)\n",
    "    can_alphanumeric = all(am)\n",
    "    can_kanji = all(km)\n",
    "    can_byte = true     # UTF-8 can encode everything (always true)\n",
    "\n",
    "    println(\"Can every character be encoded in:\")\n",
    "    println(\"Mode\\t\\tEncodable\")\n",
    "    println(\"Numeric\\t\\t$(can_numeric ? \"Yes\" : \"No\")\")\n",
    "    println(\"Alphanumeric\\t$(can_alphanumeric ? \"Yes\" : \"No\")\")\n",
    "    println(\"Byte\\t\\tYes\")  # Always possible\n",
    "    println(\"Kanji\\t\\t$(can_kanji ? \"Yes\" : \"No\")\")\n",
    "\n",
    "    # Determine best encoding mode\n",
    "    if can_numeric\n",
    "        return \"Numeric\"\n",
    "    elseif can_alphanumeric\n",
    "        return \"Alphanumeric\"\n",
    "    elseif can_kanji\n",
    "        return \"Kanji\"\n",
    "    else\n",
    "        return \"Byte\"  # Always possible\n",
    "    end\n",
    "end"
   ]
  },
  {
   "cell_type": "markdown",
   "id": "33bcf614-bb47-49d8-9e39-cc4d24b961ea",
   "metadata": {},
   "source": [
    "### 2. **Create data segment**"
   ]
  },
  {
   "cell_type": "code",
   "execution_count": 271,
   "id": "fe1a2e02-342b-496c-bac7-b698ffd4f4e0",
   "metadata": {},
   "outputs": [
    {
     "data": {
      "text/plain": [
       "encode_text (generic function with 1 method)"
      ]
     },
     "execution_count": 271,
     "metadata": {},
     "output_type": "execute_result"
    }
   ],
   "source": [
    "# Encode based on mode\n",
    "function encode_text(text)\n",
    "    mode = determine_encoding(text)\n",
    "    \n",
    "    total_bits = 0\n",
    "    bit_strings = []  # Store binary strings\n",
    "    \n",
    "    if mode == \"Numeric\"\n",
    "        index = 0  # Track character index\n",
    "        for i in 1:3:length(text)\n",
    "            num_str = text[i:min(i+2, end)]  # Group 1-3 digits\n",
    "            num_value = parse(Int, num_str)\n",
    "            \n",
    "            # Determine bit length\n",
    "            bit_length = if length(num_str) == 3\n",
    "                10\n",
    "            elseif length(num_str) == 2\n",
    "                7\n",
    "            else\n",
    "                4\n",
    "            end\n",
    "\n",
    "            binary_value = lpad(string(num_value, base=2), bit_length, '0')  # Convert to binary\n",
    "            push!(bit_strings, binary_value)  # Store binary string\n",
    "\n",
    "            println(\"Index\\tChar\\tBits\") \n",
    "\n",
    "            # Print debug output for each character\n",
    "            for j in 0:length(num_str)-1\n",
    "                println(\"$(index + j)\\t$(num_str[j+1])\\t$(binary_value)\")\n",
    "            end\n",
    "\n",
    "            total_bits += bit_length\n",
    "            index += length(num_str)\n",
    "        end\n",
    "    \n",
    "    elseif mode == \"Alphanumeric\"\n",
    "        char_map = Dict(zip(collect(\"0123456789ABCDEFGHIJKLMNOPQRSTUVWXYZ \\$%*+-./:\"), 0:44))\n",
    "        index = 0  # Track character index\n",
    "\n",
    "        for i in 1:2:length(text)\n",
    "            char1 = text[i]\n",
    "            val1 = char_map[char1]  # Get mapped value\n",
    "\n",
    "            if i + 1 <= length(text)  # Pair of characters\n",
    "                char2 = text[i+1]\n",
    "                val2 = char_map[char2]\n",
    "                num_value = val1 * 45 + val2\n",
    "                bit_length = 11\n",
    "            else  # Single character\n",
    "                num_value = val1\n",
    "                bit_length = 6\n",
    "            end\n",
    "\n",
    "            binary_value = lpad(string(num_value, base=2), bit_length, '0')\n",
    "            push!(bit_strings, binary_value)  # Store binary string\n",
    "\n",
    "            println(\"Index\\tChar\\tBits\") \n",
    "            \n",
    "            # Print debug output for each character\n",
    "            println(\"$(index)\\t$char1\\t$binary_value\")\n",
    "            if i + 1 <= length(text)\n",
    "                println(\"$(index+1)\\t$char2\\t$binary_value\")\n",
    "            end\n",
    "\n",
    "            total_bits += bit_length\n",
    "            index += (bit_length == 11) ? 2 : 1\n",
    "        end\n",
    "        \n",
    "    \n",
    "    elseif mode == \"Kanji\"\n",
    "        # TODO: Properly implement Shift JIS mapping here\n",
    "        # For now, we just convert the Unicode code point to binary\n",
    "        println(\"Index\\tChar\\tValues (hex)\\tBits\")        \n",
    "        for (i, c) in enumerate(text)\n",
    "            code_point = UInt32(c)  # Get Unicode code point\n",
    "            hex_value = uppercase(string(code_point, base=16))  # Convert to hex\n",
    "            binary_value = lpad(string(code_point, base=2), 8, '0')  # Convert to 8-bit binary\n",
    "            push!(bit_strings, binary_value)  # Store binary string\n",
    "        \n",
    "            println(\"$i\\t$c\\t$hex_value\\t\\t$binary_value\")\n",
    "            total_bits += 8\n",
    "        end     \n",
    "\n",
    "    else  # Byte Mode\n",
    "        println(\"Index\\tChar\\tValues (hex)\\tBits\")        \n",
    "        for (i, c) in enumerate(text)\n",
    "            code_point = UInt32(c)  # Get Unicode code point\n",
    "            hex_value = uppercase(string(code_point, base=16))  # Convert to hex\n",
    "            binary_value = lpad(string(code_point, base=2), 8, '0')  # Convert to 8-bit binary\n",
    "            push!(bit_strings, binary_value)  # Store binary string\n",
    "        \n",
    "            println(\"$i\\t$c\\t$hex_value\\t\\t$binary_value\")\n",
    "            total_bits += 8\n",
    "        end\n",
    "    end\n",
    "    \n",
    "    return mode, join(bit_strings), total_bits\n",
    "end"
   ]
  },
  {
   "cell_type": "code",
   "execution_count": 275,
   "id": "df7e29f0-0bb8-4081-a3cc-e7ef63129859",
   "metadata": {},
   "outputs": [
    {
     "name": "stdout",
     "output_type": "stream",
     "text": [
      "Index\tChar\tCP hex\tNM\tAM\tBM\tKM\n",
      "1\t「\tU+300C\tNo\tNo\tYes\tYes\n",
      "2\t魔\tU+9B54\tNo\tNo\tYes\tYes\n",
      "3\t法\tU+6CD5\tNo\tNo\tYes\tYes\n",
      "4\t少\tU+5C11\tNo\tNo\tYes\tYes\n",
      "5\t女\tU+5973\tNo\tNo\tYes\tYes\n",
      "6\tま\tU+307E\tNo\tNo\tYes\tYes\n",
      "7\tど\tU+3069\tNo\tNo\tYes\tYes\n",
      "8\tか\tU+304B\tNo\tNo\tYes\tYes\n",
      "9\t☆\tU+2606\tNo\tNo\tYes\tYes\n",
      "10\tマ\tU+30DE\tNo\tNo\tYes\tYes\n",
      "11\tギ\tU+30AE\tNo\tNo\tYes\tYes\n",
      "12\tカ\tU+30AB\tNo\tNo\tYes\tYes\n",
      "13\t」\tU+300D\tNo\tNo\tYes\tYes\n",
      "14\tっ\tU+3063\tNo\tNo\tYes\tYes\n",
      "15\tて\tU+3066\tNo\tNo\tYes\tYes\n",
      "16\t、\tU+3001\tNo\tNo\tYes\tYes\n",
      "17\t　\tU+3000\tNo\tNo\tYes\tYes\n",
      "18\tИ\tU+418\tNo\tNo\tYes\tYes\n",
      "19\tА\tU+410\tNo\tNo\tYes\tYes\n",
      "20\tИ\tU+418\tNo\tNo\tYes\tYes\n",
      "21\t　\tU+3000\tNo\tNo\tYes\tYes\n",
      "22\tｄ\tU+FF44\tNo\tNo\tYes\tYes\n",
      "23\tｅ\tU+FF45\tNo\tNo\tYes\tYes\n",
      "24\tｓ\tU+FF53\tNo\tNo\tYes\tYes\n",
      "25\tｕ\tU+FF55\tNo\tNo\tYes\tYes\n",
      "26\t　\tU+3000\tNo\tNo\tYes\tYes\n",
      "27\tκ\tU+3BA\tNo\tNo\tYes\tYes\n",
      "28\tα\tU+3B1\tNo\tNo\tYes\tYes\n",
      "29\t？\tU+FF1F\tNo\tNo\tYes\tYes\n",
      "Can every character be encoded in:\n",
      "Mode\t\tEncodable\n",
      "Numeric\t\tNo\n",
      "Alphanumeric\tNo\n",
      "Byte\t\tYes\n",
      "Kanji\t\tYes\n",
      "Index\tChar\tValues (hex)\tBits\n",
      "1\t「\t300C\t\t11000000001100\n",
      "2\t魔\t9B54\t\t1001101101010100\n",
      "3\t法\t6CD5\t\t110110011010101\n",
      "4\t少\t5C11\t\t101110000010001\n",
      "5\t女\t5973\t\t101100101110011\n",
      "6\tま\t307E\t\t11000001111110\n",
      "7\tど\t3069\t\t11000001101001\n",
      "8\tか\t304B\t\t11000001001011\n",
      "9\t☆\t2606\t\t10011000000110\n",
      "10\tマ\t30DE\t\t11000011011110\n",
      "11\tギ\t30AE\t\t11000010101110\n",
      "12\tカ\t30AB\t\t11000010101011\n",
      "13\t」\t300D\t\t11000000001101\n",
      "14\tっ\t3063\t\t11000001100011\n",
      "15\tて\t3066\t\t11000001100110\n",
      "16\t、\t3001\t\t11000000000001\n",
      "17\t　\t3000\t\t11000000000000\n",
      "18\tИ\t418\t\t10000011000\n",
      "19\tА\t410\t\t10000010000\n",
      "20\tИ\t418\t\t10000011000\n",
      "21\t　\t3000\t\t11000000000000\n",
      "22\tｄ\tFF44\t\t1111111101000100\n",
      "23\tｅ\tFF45\t\t1111111101000101\n",
      "24\tｓ\tFF53\t\t1111111101010011\n",
      "25\tｕ\tFF55\t\t1111111101010101\n",
      "26\t　\t3000\t\t11000000000000\n",
      "27\tκ\t3BA\t\t1110111010\n",
      "28\tα\t3B1\t\t1110110001\n",
      "29\t？\tFF1F\t\t1111111100011111\n"
     ]
    },
    {
     "data": {
      "text/plain": [
       "(\"Kanji\", \"11000000001100100110110101010011011001101010110111000001000110110010111001111000001111110110000011010011100000100101110011000000110110000110111101100001010111011000010101011110000000011011100000110001111000001100110110000000000011100000000000010000011000100000100001000001100011000000000000111111110100010011111111010001011111111101010011111111110101010111000000000000111011101011101100011111111100011111\", 232)"
      ]
     },
     "execution_count": 275,
     "metadata": {},
     "output_type": "execute_result"
    }
   ],
   "source": [
    "encode_text(text)"
   ]
  },
  {
   "cell_type": "code",
   "execution_count": null,
   "id": "a8d9c578-2222-4f03-8398-b907c3cf14a1",
   "metadata": {},
   "outputs": [],
   "source": []
  }
 ],
 "metadata": {
  "kernelspec": {
   "display_name": "Julia 1.11.3",
   "language": "julia",
   "name": "julia-1.11"
  },
  "language_info": {
   "file_extension": ".jl",
   "mimetype": "application/julia",
   "name": "julia",
   "version": "1.11.3"
  }
 },
 "nbformat": 4,
 "nbformat_minor": 5
}
