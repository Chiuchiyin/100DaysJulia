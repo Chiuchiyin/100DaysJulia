{
 "cells": [
  {
   "cell_type": "markdown",
   "id": "89409d7e-b62c-413e-a2b8-c457322882cb",
   "metadata": {},
   "source": [
    "# Sok format\n",
    "We would follow the formatting convention used for \"Sokoban YASC\"\n",
    "\n",
    "## Legend\n",
    "\n",
    "| Symbol                         | Meaning                              |\n",
    "| ------------------------------ | ------------------------------------ |\n",
    "| `#`                            | Wall                                 |\n",
    "| `p`                            | Pusher                               |\n",
    "| `P`                            | Pusher on goal square               |\n",
    "| `b`                            | Box                                  |\n",
    "| `B`                            | Box on goal square                  |\n",
    "| `.`                            | Goal square                          |\n",
    "| ` `                            | Floor                                |\n",
    "| `-`                            | Floor                                |\n",
    "| `_`                            | Floor                                |\n",
    "\n",
    "## Remarks\n",
    "\n",
    "- The first and last non-empty square in each row must be a wall or a box on a goal.\n",
    "- An empty interior row must be written with at least one `-` or `_`."
   ]
  },
  {
   "cell_type": "code",
   "execution_count": 1,
   "id": "4f0a1eb0-dc7a-44c8-a260-53136164474c",
   "metadata": {},
   "outputs": [],
   "source": [
    "using Printf\n",
    "\n",
    "mutable struct Sokoban\n",
    "    width::Int\n",
    "    height::Int\n",
    "    player::Tuple{Int, Int}  # Player position (row, col)\n",
    "    boxes::Vector{Tuple{Int, Int}}  # List of box positions\n",
    "    goals::Vector{Tuple{Int, Int}}  # List of goal positions\n",
    "    walls::Vector{Tuple{Int, Int}}  # List of wall positions\n",
    "end"
   ]
  },
  {
   "cell_type": "code",
   "execution_count": 9,
   "id": "a810ca51-613a-4208-8464-c050e7cde581",
   "metadata": {},
   "outputs": [
    {
     "name": "stdout",
     "output_type": "stream",
     "text": [
      "Extracted 90 levels and saved to levels_extracted\n"
     ]
    }
   ],
   "source": [
    "function extract_levels(file_path::String)::Vector{String}\n",
    "    file = open(file_path, \"r\")\n",
    "    lines = readlines(file)\n",
    "    close(file)\n",
    "\n",
    "    levels = String[]\n",
    "    current_level = []\n",
    "    recording = false\n",
    "\n",
    "    for line in lines\n",
    "        if occursin(r\"^\\s*#\", line)  # Detect level lines starting with \"#\"\n",
    "            push!(current_level, line)\n",
    "            recording = true\n",
    "        elseif recording\n",
    "            if isempty(line)  # Empty line indicates the end of a level\n",
    "                push!(levels, join(current_level, \"\\n\"))\n",
    "                current_level = []\n",
    "                recording = false\n",
    "            end\n",
    "        end\n",
    "    end\n",
    "\n",
    "    if !isempty(current_level)  # Capture last level if no empty line at the end\n",
    "        push!(levels, join(current_level, \"\\n\"))\n",
    "    end\n",
    "\n",
    "    return levels\n",
    "end\n",
    "\n",
    "function save_levels(levels::Vector{String}, output_dir::String)\n",
    "    mkpath(output_dir)  # Ensure output directory exists\n",
    "    for (i, level) in enumerate(levels)\n",
    "        file_path = joinpath(output_dir, \"level_$i.txt\")\n",
    "        open(file_path, \"w\") do f\n",
    "            write(f, level)\n",
    "        end\n",
    "    end\n",
    "end"
   ]
  },
  {
   "cell_type": "code",
   "execution_count": 16,
   "id": "8b8bcabf-617e-4543-87b7-71232272f098",
   "metadata": {},
   "outputs": [
    {
     "name": "stdout",
     "output_type": "stream",
     "text": [
      "Extracted 90 levels and saved to Xsokoban_90\n"
     ]
    }
   ],
   "source": [
    "#extracting levels from file and store in separate txt\n",
    "\n",
    "file_path = \"Xsokoban_90.xsb\"  # Path to the file containing levels\n",
    "output_dir = \"Xsokoban_90\"  # Directory to store extracted levels\n",
    "\n",
    "levels = extract_levels(file_path)\n",
    "save_levels(levels, output_dir)\n",
    "\n",
    "println(\"Extracted $(length(levels)) levels and saved to $output_dir\")"
   ]
  },
  {
   "cell_type": "code",
   "execution_count": 66,
   "id": "5e91f171-b9c2-4d21-b693-bd2495147285",
   "metadata": {},
   "outputs": [
    {
     "data": {
      "text/plain": [
       "parse_level_to_grid (generic function with 1 method)"
      ]
     },
     "execution_count": 66,
     "metadata": {},
     "output_type": "execute_result"
    }
   ],
   "source": [
    "# Parse the level into a 2D array (grid)\n",
    "function parse_level_to_grid(level_str::String)\n",
    "    return [collect(line) for line in split(level_str, \"\\n\") if !isempty(line)]\n",
    "end"
   ]
  },
  {
   "cell_type": "code",
   "execution_count": 67,
   "id": "1047435c-0547-494b-94e0-7a09f1d8bbf0",
   "metadata": {},
   "outputs": [
    {
     "data": {
      "text/plain": [
       "render_grid (generic function with 1 method)"
      ]
     },
     "execution_count": 67,
     "metadata": {},
     "output_type": "execute_result"
    }
   ],
   "source": [
    "# Render the grid\n",
    "function render_grid(grid::Vector{Vector{Char}})\n",
    "    for row in grid\n",
    "        println(join(row))\n",
    "    end\n",
    "end"
   ]
  },
  {
   "cell_type": "code",
   "execution_count": 80,
   "id": "7293e109-6507-4e84-aaa6-9404c562ce40",
   "metadata": {},
   "outputs": [
    {
     "data": {
      "text/plain": [
       "find_player_position (generic function with 1 method)"
      ]
     },
     "execution_count": 80,
     "metadata": {},
     "output_type": "execute_result"
    }
   ],
   "source": [
    "# Find player position\n",
    "function find_player_position(grid::Vector{Vector{Char}})\n",
    "    for (i, row) in enumerate(grid)\n",
    "        for (j, cell) in enumerate(row)\n",
    "            if cell == '@' || cell == 'p' || cell == 'P' || cell == '+'\n",
    "                return (i, j)  # Return row, column of the player\n",
    "            end\n",
    "        end\n",
    "    end\n",
    "end"
   ]
  },
  {
   "cell_type": "code",
   "execution_count": 82,
   "id": "6388df03-c03c-44bb-9c4c-4973e33ddbc7",
   "metadata": {},
   "outputs": [
    {
     "data": {
      "text/plain": [
       "move_player! (generic function with 1 method)"
      ]
     },
     "execution_count": 82,
     "metadata": {},
     "output_type": "execute_result"
    }
   ],
   "source": [
    "# Move the player\n",
    "function move_player!(grid::Vector{Vector{Char}}, direction::String)\n",
    "    # Get player position\n",
    "    row, col = find_player_position(grid)\n",
    "    \n",
    "    # Determine the new player position based on direction\n",
    "    new_row, new_col = row, col\n",
    "    \n",
    "    # Determine the new position based on the direction\n",
    "    if direction == \"up\" && row > 1\n",
    "        new_row -= 1\n",
    "    elseif direction == \"down\" && row < length(grid)\n",
    "        new_row += 1\n",
    "    elseif direction == \"left\" && col > 1\n",
    "        new_col -= 1\n",
    "    elseif direction == \"right\" && col < length(grid[1])\n",
    "        new_col += 1\n",
    "    else\n",
    "        println(\"Invalid move!\")\n",
    "        return player_position  # Return the original position if move is out of bounds\n",
    "    end\n",
    "    \n",
    "    # Get the character at the new position\n",
    "    new_pos = grid[new_row][new_col]\n",
    "    \n",
    "    if new_pos == ' ' || new_pos == '-' || new_pos == '_'\n",
    "        # Player moves to an empty space or floor\n",
    "        if grid[row][col] == 'p'  # Player was on floor\n",
    "            grid[new_row][new_col] = 'p'  # Move to new floor position\n",
    "        elseif grid[row][col] == 'P'  # Player was on goal\n",
    "            grid[new_row][new_col] = 'p'  # Move to floor after leaving goal\n",
    "        end\n",
    "        grid[row][col] = ' '  # Clear old player position\n",
    "        return (new_row, new_col)\n",
    "    elseif new_pos == '.'  # Goal square\n",
    "        if grid[row][col] == 'p'  # Player was on floor\n",
    "            grid[new_row][new_col] = 'P'  # Move to goal square\n",
    "        elseif grid[row][col] == 'P'  # Player already on goal\n",
    "            grid[new_row][new_col] = '+'  # Player stays on goal\n",
    "        end\n",
    "        grid[row][col] = ' '  # Clear old player position\n",
    "        return (new_row, new_col)\n",
    "    elseif new_pos == 'b' || new_pos == 'B'  # Box\n",
    "        # Try to move the box\n",
    "        if can_move_box(grid, new_row, new_col, direction)\n",
    "            # Move box to the target or empty spot\n",
    "            if new_pos == 'B'  # Box was on goal square\n",
    "                grid[new_row][new_col] = 'B'  # Keep box on goal square\n",
    "            else\n",
    "                grid[new_row][new_col] = 'b'  # Box moves to floor\n",
    "            end\n",
    "            grid[row][col] = ' '  # Clear old player position\n",
    "            return (new_row, new_col)\n",
    "        else\n",
    "            println(\"Cannot move box!\")\n",
    "            return player_position  # Return the player position if move is not possible\n",
    "        end\n",
    "    else\n",
    "        println(\"Invalid move!\")\n",
    "        return player_position  # Return the original position if it's not a valid move\n",
    "    end\n",
    "end"
   ]
  },
  {
   "cell_type": "code",
   "execution_count": 70,
   "id": "3dad49a3-5211-4375-8088-11424488d67a",
   "metadata": {},
   "outputs": [
    {
     "data": {
      "text/plain": [
       "can_move_box (generic function with 1 method)"
      ]
     },
     "execution_count": 70,
     "metadata": {},
     "output_type": "execute_result"
    }
   ],
   "source": [
    "# Function to check if a box can be moved\n",
    "function can_move_box(grid::Vector{Vector{Char}}, row::Int, col::Int, direction::String)\n",
    "    # Determine where the box will move based on the direction\n",
    "    if direction == \"up\"\n",
    "        target_row, target_col = row - 1, col\n",
    "    elseif direction == \"down\"\n",
    "        target_row, target_col = row + 1, col\n",
    "    elseif direction == \"left\"\n",
    "        target_row, target_col = row, col - 1\n",
    "    elseif direction == \"right\"\n",
    "        target_row, target_col = row, col + 1\n",
    "    else\n",
    "        return false  # Invalid direction\n",
    "    end\n",
    "    \n",
    "    # Check if the target position is valid (empty space or goal)\n",
    "    if grid[target_row][target_col] == ' ' || grid[target_row][target_col] == '-' || grid[target_row][target_col] == '_'\n",
    "        return true  # Box can be moved to an empty floor space\n",
    "    elseif grid[target_row][target_col] == '.'\n",
    "        return true  # Box can be moved to a goal square\n",
    "    else\n",
    "        return false  # Box cannot be moved to walls or other boxes\n",
    "    end\n",
    "end"
   ]
  },
  {
   "cell_type": "code",
   "execution_count": 77,
   "id": "b60912ba-b745-4aef-973c-58d205ff04b9",
   "metadata": {},
   "outputs": [
    {
     "data": {
      "text/plain": [
       "check_win (generic function with 1 method)"
      ]
     },
     "execution_count": 77,
     "metadata": {},
     "output_type": "execute_result"
    }
   ],
   "source": [
    "# Check if the game is won (all boxes are on target positions)\n",
    "function check_win(grid::Vector{Vector{Char}})\n",
    "    for row in grid\n",
    "        for cell in row\n",
    "            if cell == '$' || cell == 'b'  # If there's still a box that isn't on the target, the game is not won\n",
    "                return false\n",
    "            end\n",
    "        end\n",
    "    end\n",
    "    return true  # If no boxes are left, the game is won\n",
    "end"
   ]
  },
  {
   "cell_type": "code",
   "execution_count": 78,
   "id": "173cd473-1d3d-47a8-b57a-95b2e5d270e7",
   "metadata": {},
   "outputs": [
    {
     "data": {
      "text/plain": [
       "play_game (generic function with 1 method)"
      ]
     },
     "execution_count": 78,
     "metadata": {},
     "output_type": "execute_result"
    }
   ],
   "source": [
    "function play_game(level::String)\n",
    "    grid = parse_level_to_grid(level)\n",
    "    render_grid(grid)\n",
    "    \n",
    "    # Keep playing until the player wins\n",
    "    while !check_win(grid)\n",
    "        print(\"Move (up/down/left/right): \")\n",
    "        IJulia.clear_output(true)\n",
    "        move = readline()  # Wait for the player's input\n",
    "        move_player!(grid, move)\n",
    "        render_grid(grid)        \n",
    "    end\n",
    "    \n",
    "    println(\"You win!\")\n",
    "end"
   ]
  },
  {
   "cell_type": "code",
   "execution_count": 83,
   "id": "a80e59b2-fb6b-4f75-9ce4-884dea8eeeb3",
   "metadata": {},
   "outputs": [
    {
     "name": "stdin",
     "output_type": "stream",
     "text": [
      "stdin>  up\n"
     ]
    },
    {
     "ename": "LoadError",
     "evalue": "UndefVarError: player_row not defined",
     "output_type": "error",
     "traceback": [
      "UndefVarError: player_row not defined",
      "",
      "Stacktrace:",
      " [1] move_player!(grid::Vector{Vector{Char}}, direction::String)",
      "   @ Main .\\In[82]:7",
      " [2] play_game(level::String)",
      "   @ Main .\\In[78]:10",
      " [3] top-level scope",
      "   @ In[83]:2"
     ]
    }
   ],
   "source": [
    "# Start the game\n",
    "play_game(levels[1])"
   ]
  },
  {
   "cell_type": "code",
   "execution_count": null,
   "id": "9d83da98-c127-45b5-afd3-65cba2113f2c",
   "metadata": {},
   "outputs": [],
   "source": []
  }
 ],
 "metadata": {
  "kernelspec": {
   "display_name": "Julia 1.8.0",
   "language": "julia",
   "name": "julia-1.8"
  },
  "language_info": {
   "file_extension": ".jl",
   "mimetype": "application/julia",
   "name": "julia",
   "version": "1.8.0"
  }
 },
 "nbformat": 4,
 "nbformat_minor": 5
}
