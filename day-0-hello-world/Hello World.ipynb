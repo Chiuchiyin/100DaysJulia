{
 "cells": [
  {
   "cell_type": "code",
   "execution_count": 1,
   "id": "93f405ba-f6f2-4b23-93a1-0673ad45c4c9",
   "metadata": {},
   "outputs": [
    {
     "name": "stdout",
     "output_type": "stream",
     "text": [
      "hello world\n"
     ]
    }
   ],
   "source": [
    "println(\"hello world\")"
   ]
  },
  {
   "cell_type": "code",
   "execution_count": 5,
   "id": "8847a03d-0165-4f5f-9f1a-6f5232d009ea",
   "metadata": {},
   "outputs": [
    {
     "name": "stdin",
     "output_type": "stream",
     "text": [
      "stdin>  K\n"
     ]
    },
    {
     "data": {
      "text/plain": [
       "\"K\""
      ]
     },
     "execution_count": 5,
     "metadata": {},
     "output_type": "execute_result"
    }
   ],
   "source": [
    "name = readline()"
   ]
  },
  {
   "cell_type": "code",
   "execution_count": 13,
   "id": "e48f085f-af91-4059-88fe-bd8de13fe1b1",
   "metadata": {},
   "outputs": [
    {
     "name": "stdout",
     "output_type": "stream",
     "text": [
      "Nice to meet you, K!\n"
     ]
    }
   ],
   "source": [
    "println(\"Nice to meet you, $name\",\"!\")"
   ]
  },
  {
   "cell_type": "code",
   "execution_count": null,
   "id": "a5b2036c-6883-4aef-b598-bcc759b295d3",
   "metadata": {},
   "outputs": [],
   "source": []
  }
 ],
 "metadata": {
  "kernelspec": {
   "display_name": "Julia 1.11.3",
   "language": "julia",
   "name": "julia-1.11"
  },
  "language_info": {
   "file_extension": ".jl",
   "mimetype": "application/julia",
   "name": "julia",
   "version": "1.11.3"
  }
 },
 "nbformat": 4,
 "nbformat_minor": 5
}
